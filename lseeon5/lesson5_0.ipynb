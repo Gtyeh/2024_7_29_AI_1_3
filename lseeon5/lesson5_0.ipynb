{
 "cells": [
  {
   "cell_type": "code",
   "execution_count": 9,
   "metadata": {},
   "outputs": [
    {
     "name": "stdout",
     "output_type": "stream",
     "text": [
      "格式錯誤\n"
     ]
    }
   ],
   "source": [
    "name=input(\"請輸入姓名:\")\n",
    "try:\n",
    "    cm=float(input(\"請輸入身高:\"))\n",
    "    kg=float(input(\"請輸入體重:\"))\n",
    "    m=cm*0.01\n",
    "    BMI=round(kg/m**2,ndigits=2)\n",
    "    print(f'{name}您好:')\n",
    "    print(f'您的值是:{BMI}')\n",
    "    if BMI<18.5: \n",
    "        print('體重過輕')\n",
    "    elif BMI<24: \n",
    "        print('正常範圍')\n",
    "    elif BMI<27: \n",
    "        print('過重')\n",
    "    elif BMI<30: \n",
    "        print('輕度肥胖')\n",
    "    elif BMI<35: \n",
    "        print('中度肥胖')\n",
    "    else:    print('重度肥胖')\n",
    "except Exception: print('格式錯誤')\n"
   ]
  }
 ],
 "metadata": {
  "kernelspec": {
   "display_name": "Python 3",
   "language": "python",
   "name": "python3"
  },
  "language_info": {
   "codemirror_mode": {
    "name": "ipython",
    "version": 3
   },
   "file_extension": ".py",
   "mimetype": "text/x-python",
   "name": "python",
   "nbconvert_exporter": "python",
   "pygments_lexer": "ipython3",
   "version": "3.11.9"
  }
 },
 "nbformat": 4,
 "nbformat_minor": 2
}
