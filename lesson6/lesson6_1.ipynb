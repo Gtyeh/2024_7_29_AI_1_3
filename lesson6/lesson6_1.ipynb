{
 "cells": [
  {
   "cell_type": "code",
   "execution_count": 1,
   "metadata": {},
   "outputs": [
    {
     "name": "stdout",
     "output_type": "stream",
     "text": [
      "已存入4個月的存款，共69566元\n"
     ]
    }
   ],
   "source": [
    "#欲買下60000元機車，將每月存款存入，到達可購買金額時告知\n",
    "deposit=0\n",
    "month=0\n",
    "while deposit < 60000:\n",
    "    month +=1\n",
    "    money=int(input(f'請輸入第{month}月的存款'))\n",
    "    deposit += money\n",
    "print(f'已存入{month}個月的存款，共{deposit}元')"
   ]
  }
 ],
 "metadata": {
  "kernelspec": {
   "display_name": "Python 3",
   "language": "python",
   "name": "python3"
  },
  "language_info": {
   "codemirror_mode": {
    "name": "ipython",
    "version": 3
   },
   "file_extension": ".py",
   "mimetype": "text/x-python",
   "name": "python",
   "nbconvert_exporter": "python",
   "pygments_lexer": "ipython3",
   "version": "3.11.9"
  }
 },
 "nbformat": 4,
 "nbformat_minor": 2
}
